{
  "nbformat": 4,
  "nbformat_minor": 0,
  "metadata": {
    "colab": {
      "provenance": [],
      "authorship_tag": "ABX9TyOEnvell5t1zdwPWeQoFytZ",
      "include_colab_link": true
    },
    "kernelspec": {
      "name": "python3",
      "display_name": "Python 3"
    },
    "language_info": {
      "name": "python"
    }
  },
  "cells": [
    {
      "cell_type": "markdown",
      "metadata": {
        "id": "view-in-github",
        "colab_type": "text"
      },
      "source": [
        "<a href=\"https://colab.research.google.com/github/JameCodeMan/quantium-starter-repo-Jame/blob/main/QuantiumSoftEng.ipynb\" target=\"_parent\"><img src=\"https://colab.research.google.com/assets/colab-badge.svg\" alt=\"Open In Colab\"/></a>"
      ]
    },
    {
      "cell_type": "code",
      "execution_count": 29,
      "metadata": {
        "colab": {
          "base_uri": "https://localhost:8080/",
          "height": 689
        },
        "id": "-bf8cp2ySZzf",
        "outputId": "df33141e-8a7b-4ad8-b2e5-c36b1e671db0"
      },
      "outputs": [
        {
          "output_type": "stream",
          "name": "stdout",
          "text": [
            "Drive already mounted at /content/drive; to attempt to forcibly remount, call drive.mount(\"/content/drive\", force_remount=True).\n"
          ]
        },
        {
          "output_type": "display_data",
          "data": {
            "text/plain": [
              "<IPython.core.display.Javascript object>"
            ],
            "application/javascript": [
              "(async (port, path, width, height, cache, element) => {\n",
              "    if (!google.colab.kernel.accessAllowed && !cache) {\n",
              "      return;\n",
              "    }\n",
              "    element.appendChild(document.createTextNode(''));\n",
              "    const url = await google.colab.kernel.proxyPort(port, {cache});\n",
              "    const iframe = document.createElement('iframe');\n",
              "    iframe.src = new URL(path, url).toString();\n",
              "    iframe.height = height;\n",
              "    iframe.width = width;\n",
              "    iframe.style.border = 0;\n",
              "    iframe.allow = [\n",
              "        'accelerometer',\n",
              "        'autoplay',\n",
              "        'camera',\n",
              "        'clipboard-read',\n",
              "        'clipboard-write',\n",
              "        'gyroscope',\n",
              "        'magnetometer',\n",
              "        'microphone',\n",
              "        'serial',\n",
              "        'usb',\n",
              "        'xr-spatial-tracking',\n",
              "    ].join('; ');\n",
              "    element.appendChild(iframe);\n",
              "  })(8050, \"/\", \"100%\", 650, false, window.element)"
            ]
          },
          "metadata": {}
        }
      ],
      "source": [
        "# Import libraries\n",
        "import pandas as pd\n",
        "from google.colab import drive\n",
        "import dash\n",
        "from dash import dcc, html, Input, Output\n",
        "import plotly.express as px\n",
        "\n",
        "# Mount Google Drive\n",
        "drive.mount('/content/drive')\n",
        "\n",
        "# Read CSV files from Google Drive\n",
        "df1 = pd.read_csv('/content/drive/My Drive/Colab Notebooks/daily_sales_data_0.csv')\n",
        "df2 = pd.read_csv('/content/drive/My Drive/Colab Notebooks/daily_sales_data_1.csv')\n",
        "df3 = pd.read_csv('/content/drive/My Drive/Colab Notebooks/daily_sales_data_2.csv')\n",
        "\n",
        "# Append dataframes\n",
        "appended_df = pd.concat([df1, df2, df3])\n",
        "\n",
        "# Remove the dollar sign and convert 'price' to float\n",
        "appended_df['price'] = appended_df['price'].str.replace('$', '').astype(float)\n",
        "\n",
        "# Convert 'quantity' to integer\n",
        "appended_df['quantity'] = appended_df['quantity'].astype(float)\n",
        "\n",
        "# Remove entries with incorrect data\n",
        "appended_df = appended_df[appended_df['product'] == 'pink morsel']\n",
        "\n",
        "# Combine two columns by multiplying values\n",
        "appended_df['sales'] = appended_df['price'] * appended_df['quantity']\n",
        "appended_df.drop(columns=['price', 'quantity'], inplace=True)\n",
        "\n",
        "# Convert the 'date' column to datetime\n",
        "appended_df['date'] = pd.to_datetime(appended_df['date'])\n",
        "\n",
        "# Get unique regions\n",
        "regions = appended_df['region'].unique()\n",
        "\n",
        "# Create the Dash app\n",
        "app = dash.Dash(__name__)\n",
        "\n",
        "# Define the layout with CSS styling\n",
        "app.layout = html.Div([\n",
        "    html.H1(\"Sales Data Visualization\", style={'text-align': 'center', 'color': '#333'}),\n",
        "    html.Div([\n",
        "        dcc.Graph(\n",
        "            id='sales-line-chart',\n",
        "            style={'width': '80%', 'margin': 'auto'}\n",
        "        ),\n",
        "        dcc.RadioItems(\n",
        "            id='region-radio',\n",
        "            options=[{'label': region, 'value': region} for region in ['All'] + list(regions)],\n",
        "            value='All',\n",
        "            labelStyle={'display': 'inline-block', 'margin': '10px'}\n",
        "        ),\n",
        "    ], style={'text-align': 'center', 'margin-top': '50px'})\n",
        "], style={'font-family': 'Arial, sans-serif', 'background-color': '#f2f2f2', 'padding': '20px'})\n",
        "\n",
        "# Define callback to update the line chart based on selected region\n",
        "@app.callback(\n",
        "    Output('sales-line-chart', 'figure'),\n",
        "    [Input('region-radio', 'value')]\n",
        ")\n",
        "def update_chart(selected_region):\n",
        "    if selected_region == 'All':\n",
        "        filtered_df = appended_df\n",
        "    else:\n",
        "        filtered_df = appended_df[appended_df['region'] == selected_region]\n",
        "\n",
        "    fig = px.line(filtered_df, x='date', y='sales', title='Chronological Sales Data')\n",
        "    return fig\n",
        "\n",
        "# Run the app\n",
        "if __name__ == '__main__':\n",
        "    app.run_server(debug=True)"
      ]
    }
  ]
}