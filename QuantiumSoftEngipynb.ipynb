{
  "nbformat": 4,
  "nbformat_minor": 0,
  "metadata": {
    "colab": {
      "provenance": [],
      "authorship_tag": "ABX9TyMDuZE3IeqJFRkHdeGGLVYA",
      "include_colab_link": true
    },
    "kernelspec": {
      "name": "python3",
      "display_name": "Python 3"
    },
    "language_info": {
      "name": "python"
    }
  },
  "cells": [
    {
      "cell_type": "markdown",
      "metadata": {
        "id": "view-in-github",
        "colab_type": "text"
      },
      "source": [
        "<a href=\"https://colab.research.google.com/github/JameCodeMan/quantium-starter-repo-Jame/blob/main/QuantiumSoftEngipynb.ipynb\" target=\"_parent\"><img src=\"https://colab.research.google.com/assets/colab-badge.svg\" alt=\"Open In Colab\"/></a>"
      ]
    },
    {
      "cell_type": "code",
      "execution_count": 12,
      "metadata": {
        "colab": {
          "base_uri": "https://localhost:8080/"
        },
        "id": "-bf8cp2ySZzf",
        "outputId": "b6b2e44f-0bad-432f-e62d-a26e7b7283b4"
      },
      "outputs": [
        {
          "output_type": "stream",
          "name": "stdout",
          "text": [
            "Drive already mounted at /content/drive; to attempt to forcibly remount, call drive.mount(\"/content/drive\", force_remount=True).\n",
            "           product        date region   sales\n",
            "0      pink morsel  2018-02-06  north  1638.0\n",
            "1      pink morsel  2018-02-06  south  1647.0\n",
            "2      pink morsel  2018-02-06   east  1731.0\n",
            "3      pink morsel  2018-02-06   west  1557.0\n",
            "28     pink morsel  2018-02-07  north  1587.0\n",
            "...            ...         ...    ...     ...\n",
            "13667  pink morsel  2022-02-13   west  2390.0\n",
            "13692  pink morsel  2022-02-14  north  2035.0\n",
            "13693  pink morsel  2022-02-14  south  2465.0\n",
            "13694  pink morsel  2022-02-14   east  2500.0\n",
            "13695  pink morsel  2022-02-14   west  2115.0\n",
            "\n",
            "[5880 rows x 4 columns]\n"
          ]
        }
      ],
      "source": [
        "# Import libraries\n",
        "import pandas as pd\n",
        "from google.colab import drive\n",
        "\n",
        "# Mount Google Drive\n",
        "drive.mount('/content/drive')\n",
        "\n",
        "# Read CSV files from Google Drive\n",
        "df1 = pd.read_csv('/content/drive/My Drive/Colab Notebooks/daily_sales_data_0.csv')\n",
        "df2 = pd.read_csv('/content/drive/My Drive/Colab Notebooks/daily_sales_data_1.csv')\n",
        "df3 = pd.read_csv('/content/drive/My Drive/Colab Notebooks/daily_sales_data_2.csv')\n",
        "\n",
        "# Append dataframes\n",
        "appended_df = pd.concat([df1, df2, df3])\n",
        "\n",
        "# Remove the dollar sign and convert 'price' to float\n",
        "appended_df['price'] = appended_df['price'].str.replace('$', '').astype(float)\n",
        "\n",
        "# Convert 'quantity' to integer\n",
        "appended_df['quantity'] = appended_df['quantity'].astype(float)\n",
        "\n",
        "# Remove entries with incorrect data\n",
        "appended_df = appended_df[appended_df['product'] == 'pink morsel']\n",
        "\n",
        "# Combine two columns by multiplying values\n",
        "appended_df['sales'] = appended_df['price'] * appended_df['quantity']\n",
        "appended_df.drop(columns=['price', 'quantity'], inplace=True)\n",
        "print(appended_df)\n",
        "\n",
        "output_path = '/content/drive/My Drive/Colab Notebooks/output.csv'\n",
        "appended_df.to_csv(output_path, index=False)"
      ]
    }
  ]
}